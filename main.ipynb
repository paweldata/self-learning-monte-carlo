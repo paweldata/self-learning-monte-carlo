{
  "cells": [
    {
      "cell_type": "markdown",
      "id": "abd648af",
      "metadata": {
        "id": "abd648af"
      },
      "source": [
        "# Self-learning Monte Carlo"
      ]
    },
    {
      "cell_type": "code",
      "execution_count": 5,
      "id": "696025b2",
      "metadata": {
        "id": "696025b2",
        "outputId": "03d0d9fd-d5b3-4805-a842-69668a142504",
        "colab": {
          "base_uri": "https://localhost:8080/"
        }
      },
      "outputs": [
        {
          "output_type": "execute_result",
          "data": {
            "text/plain": [
              "2"
            ]
          },
          "metadata": {},
          "execution_count": 5
        }
      ],
      "source": [
        "1+1"
      ]
    }
  ],
  "metadata": {
    "kernelspec": {
      "display_name": "Python 3 (ipykernel)",
      "language": "python",
      "name": "python3"
    },
    "language_info": {
      "codemirror_mode": {
        "name": "ipython",
        "version": 3
      },
      "file_extension": ".py",
      "mimetype": "text/x-python",
      "name": "python",
      "nbconvert_exporter": "python",
      "pygments_lexer": "ipython3",
      "version": "3.10.6"
    },
    "colab": {
      "provenance": []
    }
  },
  "nbformat": 4,
  "nbformat_minor": 5
}